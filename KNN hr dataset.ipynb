{
 "cells": [
  {
   "cell_type": "code",
   "execution_count": 9,
   "metadata": {},
   "outputs": [],
   "source": [
    "import pandas as pd\n",
    "import numpy as np\n",
    "from sklearn.model_selection import train_test_split\n",
    "import matplotlib.pyplot as plt\n",
    "from sklearn.tree import DecisionTreeClassifier\n",
    "from sklearn.metrics import accuracy_score,classification_report,confusion_matrix,roc_curve,auc\n",
    "from sklearn.ensemble import RandomForestClassifier,AdaBoostClassifier\n",
    "import seaborn as sns\n",
    "from sklearn.neighbors import KNeighborsClassifier\n",
    "from sklearn.neighbors import NearestNeighbors,KNeighborsClassifier"
   ]
  },
  {
   "cell_type": "code",
   "execution_count": 11,
   "metadata": {},
   "outputs": [],
   "source": [
    "hr = pd.read_csv('D:/dataset/HR Analytics.csv')\n",
    "hr_dummies = pd.get_dummies(hr)\n",
    "\n",
    "\n",
    "train, test = train_test_split(hr_dummies,\n",
    "                               test_size=0.3,\n",
    "                               random_state=100)"
   ]
  },
  {
   "cell_type": "code",
   "execution_count": 12,
   "metadata": {},
   "outputs": [],
   "source": [
    "    train_x=train.drop('Attrition',axis=1)\n",
    "    train_y=train['Attrition']\n",
    "\n",
    "    test_x=test.drop('Attrition',axis=1)\n",
    "    test_y=test['Attrition']"
   ]
  },
  {
   "cell_type": "markdown",
   "metadata": {},
   "source": [
    "## Algorithm steps\n",
    "- Identify Euclidean Distance between thetest sample with all the training samples.\n",
    "- sort the training samples in the ascending order of Euclidean distance \n",
    "- choose k-Neighbours i.e choose 1st k rows after sorting\n",
    "- Do polling on target col\n",
    "- Prediction will be for that class which has the highest count."
   ]
  },
  {
   "cell_type": "code",
   "execution_count": 28,
   "metadata": {},
   "outputs": [
    {
     "data": {
      "text/html": [
       "<div>\n",
       "<style scoped>\n",
       "    .dataframe tbody tr th:only-of-type {\n",
       "        vertical-align: middle;\n",
       "    }\n",
       "\n",
       "    .dataframe tbody tr th {\n",
       "        vertical-align: top;\n",
       "    }\n",
       "\n",
       "    .dataframe thead th {\n",
       "        text-align: right;\n",
       "    }\n",
       "</style>\n",
       "<table border=\"1\" class=\"dataframe\">\n",
       "  <thead>\n",
       "    <tr style=\"text-align: right;\">\n",
       "      <th></th>\n",
       "      <th>index</th>\n",
       "      <th>euclidean</th>\n",
       "    </tr>\n",
       "  </thead>\n",
       "  <tbody>\n",
       "    <tr>\n",
       "      <th>185</th>\n",
       "      <td>1136.0</td>\n",
       "      <td>543.498850</td>\n",
       "    </tr>\n",
       "    <tr>\n",
       "      <th>976</th>\n",
       "      <td>1077.0</td>\n",
       "      <td>544.885309</td>\n",
       "    </tr>\n",
       "    <tr>\n",
       "      <th>550</th>\n",
       "      <td>853.0</td>\n",
       "      <td>586.559460</td>\n",
       "    </tr>\n",
       "    <tr>\n",
       "      <th>783</th>\n",
       "      <td>833.0</td>\n",
       "      <td>661.422709</td>\n",
       "    </tr>\n",
       "    <tr>\n",
       "      <th>696</th>\n",
       "      <td>658.0</td>\n",
       "      <td>682.539376</td>\n",
       "    </tr>\n",
       "  </tbody>\n",
       "</table>\n",
       "</div>"
      ],
      "text/plain": [
       "      index   euclidean\n",
       "185  1136.0  543.498850\n",
       "976  1077.0  544.885309\n",
       "550   853.0  586.559460\n",
       "783   833.0  661.422709\n",
       "696   658.0  682.539376"
      ]
     },
     "execution_count": 28,
     "metadata": {},
     "output_type": "execute_result"
    }
   ],
   "source": [
    "from scipy.spatial.distance import euclidean\n",
    "\n",
    "test_sample=test_x.iloc[0]\n",
    "df_eds=pd.DataFrame(columns=['index','euclidean'])\n",
    "\n",
    "for index, row in train_x.iterrows():\n",
    "    curr_ed=euclidean(test_sample.values, row.values)\n",
    "    df_eds=df_eds.append({'index':index, 'euclidean':curr_ed},ignore_index=True)\n",
    "df_eds=df_eds.sort_values(by='euclidean')\n",
    "df_eds.head()"
   ]
  },
  {
   "cell_type": "code",
   "execution_count": 29,
   "metadata": {},
   "outputs": [
    {
     "data": {
      "text/plain": [
       "Age                                    32\n",
       "DailyRate                             116\n",
       "DistanceFromHome                       13\n",
       "Education                               3\n",
       "EmployeeCount                           1\n",
       "EmployeeNumber                       1234\n",
       "EnvironmentSatisfaction                 3\n",
       "HourlyRate                             77\n",
       "JobInvolvement                          2\n",
       "JobLevel                                1\n",
       "JobSatisfaction                         2\n",
       "MonthlyIncome                        2743\n",
       "MonthlyRate                          7331\n",
       "NumCompaniesWorked                      1\n",
       "PercentSalaryHike                      20\n",
       "PerformanceRating                       4\n",
       "RelationshipSatisfaction                3\n",
       "StandardHours                          80\n",
       "StockOptionLevel                        1\n",
       "TotalWorkingYears                       2\n",
       "TrainingTimesLastYear                   2\n",
       "WorkLifeBalance                         3\n",
       "YearsAtCompany                          2\n",
       "YearsInCurrentRole                      2\n",
       "YearsSinceLastPromotion                 2\n",
       "YearsWithCurrManager                    2\n",
       "BusinessTravel_Non-Travel               0\n",
       "BusinessTravel_Travel_Frequently        1\n",
       "BusinessTravel_Travel_Rarely            0\n",
       "Department_Human Resources              0\n",
       "Department_Research & Development       1\n",
       "Department_Sales                        0\n",
       "EducationField_Human Resources          0\n",
       "EducationField_Life Sciences            0\n",
       "EducationField_Marketing                0\n",
       "EducationField_Medical                  0\n",
       "EducationField_Other                    1\n",
       "EducationField_Technical Degree         0\n",
       "Gender_Female                           1\n",
       "Gender_Male                             0\n",
       "JobRole_Healthcare Representative       0\n",
       "JobRole_Human Resources                 0\n",
       "JobRole_Laboratory Technician           1\n",
       "JobRole_Manager                         0\n",
       "JobRole_Manufacturing Director          0\n",
       "JobRole_Research Director               0\n",
       "JobRole_Research Scientist              0\n",
       "JobRole_Sales Executive                 0\n",
       "JobRole_Sales Representative            0\n",
       "MaritalStatus_Divorced                  0\n",
       "MaritalStatus_Married                   1\n",
       "MaritalStatus_Single                    0\n",
       "Over18_Y                                1\n",
       "OverTime_No                             1\n",
       "OverTime_Yes                            0\n",
       "Name: 880, dtype: int64"
      ]
     },
     "execution_count": 29,
     "metadata": {},
     "output_type": "execute_result"
    }
   ],
   "source": [
    "test_sample"
   ]
  },
  {
   "cell_type": "code",
   "execution_count": 25,
   "metadata": {},
   "outputs": [
    {
     "data": {
      "text/plain": [
       "1136.0    1\n",
       "1077.0    1\n",
       "853.0     0\n",
       "833.0     0\n",
       "658.0     0\n",
       "Name: Attrition, dtype: int64"
      ]
     },
     "execution_count": 25,
     "metadata": {},
     "output_type": "execute_result"
    }
   ],
   "source": [
    "neighbour=df_eds.head()\n",
    "train_y.loc[neighbour['index']]#.value_counts().index[0]"
   ]
  },
  {
   "cell_type": "code",
   "execution_count": 33,
   "metadata": {},
   "outputs": [
    {
     "name": "stdout",
     "output_type": "stream",
     "text": [
      "Accuracy:0.798\n",
      "             precision    recall  f1-score   support\n",
      "\n",
      "          0       0.84      0.94      0.89       371\n",
      "          1       0.15      0.06      0.08        70\n",
      "\n",
      "avg / total       0.73      0.80      0.76       441\n",
      "\n"
     ]
    },
    {
     "data": {
      "text/plain": [
       "<matplotlib.legend.Legend at 0x2736beb99b0>"
      ]
     },
     "execution_count": 33,
     "metadata": {},
     "output_type": "execute_result"
    },
    {
     "data": {
      "image/png": "[encoded data removed]",
      "text/plain": [
       "<Figure size 432x288 with 1 Axes>"
      ]
     },
     "metadata": {},
     "output_type": "display_data"
    }
   ],
   "source": [
    "from sklearn.neighbors import KNeighborsClassifier\n",
    "\n",
    "model=KNeighborsClassifier(n_neighbors=5)\n",
    "model.fit(train_x,train_y)\n",
    "pred_class=model.predict(test_x)\n",
    "pred_prob=pd.DataFrame(model.predict_proba(test_x),columns=['Neg','Pos'])\n",
    "print('Accuracy:%.3f'%accuracy_score(test_y,pred_class))\n",
    "print(classification_report(test_y,pred_class))\n",
    "\n",
    "fpr,tpr,thresholds=roc_curve(test_y,pred_prob['Pos'])\n",
    "auc_knn=auc(fpr,tpr)\n",
    "plt.plot(fpr,tpr)\n",
    "plt.legend(\"AUC:%.2f\"%auc_knn)"
   ]
  },
  {
   "cell_type": "markdown",
   "metadata": {},
   "source": [
    "## Hyper Parameter Turning"
   ]
  },
  {
   "cell_type": "code",
   "execution_count": 41,
   "metadata": {},
   "outputs": [],
   "source": [
    "from sklearn.tree import DecisionTreeClassifier\n",
    "\n",
    "depths=[]\n",
    "test_errors=[]\n",
    "train_errors=[]\n",
    "\n",
    "for depth in range(1,30):\n",
    "    model=DecisionTreeClassifier(max_depth=depth)\n",
    "    model.fit(train_x,train_y)\n",
    "\n",
    "    pred_train=model.predict(train_x)\n",
    "    pred_test=model.predict(test_x)\n",
    "\n",
    "    train_error=1-accuracy_score(train_y,pred_train)\n",
    "    test_error=1- accuracy_score(test_y,pred_test)\n",
    "\n",
    "    depths.append(depth)\n",
    "    test_errors.append(test_error)\n",
    "    train_errors.append(train_error)"
   ]
  },
  {
   "cell_type": "code",
   "execution_count": 45,
   "metadata": {},
   "outputs": [
    {
     "data": {
      "text/plain": [
       "Text(0,0.5,'Error rate')"
      ]
     },
     "execution_count": 45,
     "metadata": {},
     "output_type": "execute_result"
    },
    {
     "data": {
      "image/png": "[encoded data removed]",
      "text/plain": [
       "<Figure size 432x288 with 1 Axes>"
      ]
     },
     "metadata": {},
     "output_type": "display_data"
    }
   ],
   "source": [
    "plt.plot(depths,train_errors)\n",
    "plt.plot(depths,test_errors)\n",
    "plt.legend(['Train Errors','Test Errors'])\n",
    "plt.xlabel('Decision Tree Depth')\n",
    "plt.ylabel('Error rate')"
   ]
  },
  {
   "cell_type": "markdown",
   "metadata": {},
   "source": [
    "## Cross Validation"
   ]
  },
  {
   "cell_type": "code",
   "execution_count": 46,
   "metadata": {},
   "outputs": [
    {
     "data": {
      "text/plain": [
       "array([0.83653846, 0.83653846, 0.83495146, 0.83495146, 0.82524272,\n",
       "       0.83495146, 0.83495146, 0.83333333, 0.84313725, 0.81372549])"
      ]
     },
     "execution_count": 46,
     "metadata": {},
     "output_type": "execute_result"
    }
   ],
   "source": [
    "from sklearn.model_selection import cross_val_score\n",
    "\n",
    "model=DecisionTreeClassifier(random_state=100,max_depth=1)\n",
    "cv_results=cross_val_score(model,train_x,train_y,cv=10)\n",
    "cv_results"
   ]
  },
  {
   "cell_type": "code",
   "execution_count": 51,
   "metadata": {},
   "outputs": [
    {
     "name": "stdout",
     "output_type": "stream",
     "text": [
      "0.795823998008464\n",
      "0.0005487709994292361\n"
     ]
    }
   ],
   "source": [
    "print(cv_results.mean())\n",
    "print(cv_results.var())"
   ]
  },
  {
   "cell_type": "code",
   "execution_count": 55,
   "metadata": {},
   "outputs": [],
   "source": [
    "depths=[]\n",
    "errors=[]\n",
    "\n",
    "for depth in range(1,30):\n",
    "    model=DecisionTreeClassifier(random_state=100,max_depth=depth)\n",
    "    cv_results=cross_val_score(model,train_x,train_y,cv=10)\n",
    "    avg_error=np.mean([1-acc for acc in cv_results])\n",
    "    depths.append(depth)\n",
    "    errors.append(avg_error)"
   ]
  },
  {
   "cell_type": "code",
   "execution_count": 57,
   "metadata": {},
   "outputs": [
    {
     "data": {
      "text/plain": [
       "[<matplotlib.lines.Line2D at 0x2736c1f7518>]"
      ]
     },
     "execution_count": 57,
     "metadata": {},
     "output_type": "execute_result"
    },
    {
     "data": {
      "image/png": "[encoded data removed]",
      "text/plain": [
       "<Figure size 432x288 with 1 Axes>"
      ]
     },
     "metadata": {},
     "output_type": "display_data"
    }
   ],
   "source": [
    "plt.plot(depths,errors)"
   ]
  },
  {
   "cell_type": "markdown",
   "metadata": {},
   "source": [
    "## Grid Search CV"
   ]
  },
  {
   "cell_type": "code",
   "execution_count": 66,
   "metadata": {},
   "outputs": [
    {
     "name": "stderr",
     "output_type": "stream",
     "text": [
      "C:\\Users\\Administrator\\Anaconda3\\lib\\site-packages\\sklearn\\metrics\\classification.py:1135: UndefinedMetricWarning: F-score is ill-defined and being set to 0.0 due to no predicted samples.\n",
      "  'precision', 'predicted', average, warn_for)\n",
      "C:\\Users\\Administrator\\Anaconda3\\lib\\site-packages\\sklearn\\metrics\\classification.py:1135: UndefinedMetricWarning: F-score is ill-defined and being set to 0.0 due to no predicted samples.\n",
      "  'precision', 'predicted', average, warn_for)\n",
      "C:\\Users\\Administrator\\Anaconda3\\lib\\site-packages\\sklearn\\metrics\\classification.py:1135: UndefinedMetricWarning: F-score is ill-defined and being set to 0.0 due to no predicted samples.\n",
      "  'precision', 'predicted', average, warn_for)\n",
      "C:\\Users\\Administrator\\Anaconda3\\lib\\site-packages\\sklearn\\metrics\\classification.py:1135: UndefinedMetricWarning: F-score is ill-defined and being set to 0.0 due to no predicted samples.\n",
      "  'precision', 'predicted', average, warn_for)\n",
      "C:\\Users\\Administrator\\Anaconda3\\lib\\site-packages\\sklearn\\metrics\\classification.py:1135: UndefinedMetricWarning: F-score is ill-defined and being set to 0.0 due to no predicted samples.\n",
      "  'precision', 'predicted', average, warn_for)\n",
      "C:\\Users\\Administrator\\Anaconda3\\lib\\site-packages\\sklearn\\metrics\\classification.py:1135: UndefinedMetricWarning: F-score is ill-defined and being set to 0.0 due to no predicted samples.\n",
      "  'precision', 'predicted', average, warn_for)\n",
      "C:\\Users\\Administrator\\Anaconda3\\lib\\site-packages\\sklearn\\metrics\\classification.py:1135: UndefinedMetricWarning: F-score is ill-defined and being set to 0.0 due to no predicted samples.\n",
      "  'precision', 'predicted', average, warn_for)\n",
      "C:\\Users\\Administrator\\Anaconda3\\lib\\site-packages\\sklearn\\metrics\\classification.py:1135: UndefinedMetricWarning: F-score is ill-defined and being set to 0.0 due to no predicted samples.\n",
      "  'precision', 'predicted', average, warn_for)\n",
      "C:\\Users\\Administrator\\Anaconda3\\lib\\site-packages\\sklearn\\metrics\\classification.py:1135: UndefinedMetricWarning: F-score is ill-defined and being set to 0.0 due to no predicted samples.\n",
      "  'precision', 'predicted', average, warn_for)\n",
      "C:\\Users\\Administrator\\Anaconda3\\lib\\site-packages\\sklearn\\metrics\\classification.py:1135: UndefinedMetricWarning: F-score is ill-defined and being set to 0.0 due to no predicted samples.\n",
      "  'precision', 'predicted', average, warn_for)\n",
      "C:\\Users\\Administrator\\Anaconda3\\lib\\site-packages\\sklearn\\metrics\\classification.py:1135: UndefinedMetricWarning: F-score is ill-defined and being set to 0.0 due to no predicted samples.\n",
      "  'precision', 'predicted', average, warn_for)\n",
      "C:\\Users\\Administrator\\Anaconda3\\lib\\site-packages\\sklearn\\metrics\\classification.py:1135: UndefinedMetricWarning: F-score is ill-defined and being set to 0.0 due to no predicted samples.\n",
      "  'precision', 'predicted', average, warn_for)\n",
      "C:\\Users\\Administrator\\Anaconda3\\lib\\site-packages\\sklearn\\metrics\\classification.py:1135: UndefinedMetricWarning: F-score is ill-defined and being set to 0.0 due to no predicted samples.\n",
      "  'precision', 'predicted', average, warn_for)\n",
      "C:\\Users\\Administrator\\Anaconda3\\lib\\site-packages\\sklearn\\metrics\\classification.py:1135: UndefinedMetricWarning: F-score is ill-defined and being set to 0.0 due to no predicted samples.\n",
      "  'precision', 'predicted', average, warn_for)\n",
      "C:\\Users\\Administrator\\Anaconda3\\lib\\site-packages\\sklearn\\metrics\\classification.py:1135: UndefinedMetricWarning: F-score is ill-defined and being set to 0.0 due to no predicted samples.\n",
      "  'precision', 'predicted', average, warn_for)\n",
      "C:\\Users\\Administrator\\Anaconda3\\lib\\site-packages\\sklearn\\metrics\\classification.py:1135: UndefinedMetricWarning: F-score is ill-defined and being set to 0.0 due to no predicted samples.\n",
      "  'precision', 'predicted', average, warn_for)\n",
      "C:\\Users\\Administrator\\Anaconda3\\lib\\site-packages\\sklearn\\metrics\\classification.py:1135: UndefinedMetricWarning: F-score is ill-defined and being set to 0.0 due to no predicted samples.\n",
      "  'precision', 'predicted', average, warn_for)\n",
      "C:\\Users\\Administrator\\Anaconda3\\lib\\site-packages\\sklearn\\metrics\\classification.py:1135: UndefinedMetricWarning: F-score is ill-defined and being set to 0.0 due to no predicted samples.\n",
      "  'precision', 'predicted', average, warn_for)\n",
      "C:\\Users\\Administrator\\Anaconda3\\lib\\site-packages\\sklearn\\metrics\\classification.py:1135: UndefinedMetricWarning: F-score is ill-defined and being set to 0.0 due to no predicted samples.\n",
      "  'precision', 'predicted', average, warn_for)\n",
      "C:\\Users\\Administrator\\Anaconda3\\lib\\site-packages\\sklearn\\metrics\\classification.py:1135: UndefinedMetricWarning: F-score is ill-defined and being set to 0.0 due to no predicted samples.\n",
      "  'precision', 'predicted', average, warn_for)\n",
      "C:\\Users\\Administrator\\Anaconda3\\lib\\site-packages\\sklearn\\metrics\\classification.py:1135: UndefinedMetricWarning: F-score is ill-defined and being set to 0.0 due to no predicted samples.\n",
      "  'precision', 'predicted', average, warn_for)\n",
      "C:\\Users\\Administrator\\Anaconda3\\lib\\site-packages\\sklearn\\metrics\\classification.py:1135: UndefinedMetricWarning: F-score is ill-defined and being set to 0.0 due to no predicted samples.\n",
      "  'precision', 'predicted', average, warn_for)\n",
      "C:\\Users\\Administrator\\Anaconda3\\lib\\site-packages\\sklearn\\metrics\\classification.py:1135: UndefinedMetricWarning: F-score is ill-defined and being set to 0.0 due to no predicted samples.\n",
      "  'precision', 'predicted', average, warn_for)\n",
      "C:\\Users\\Administrator\\Anaconda3\\lib\\site-packages\\sklearn\\metrics\\classification.py:1135: UndefinedMetricWarning: F-score is ill-defined and being set to 0.0 due to no predicted samples.\n",
      "  'precision', 'predicted', average, warn_for)\n",
      "C:\\Users\\Administrator\\Anaconda3\\lib\\site-packages\\sklearn\\metrics\\classification.py:1135: UndefinedMetricWarning: F-score is ill-defined and being set to 0.0 due to no predicted samples.\n",
      "  'precision', 'predicted', average, warn_for)\n",
      "C:\\Users\\Administrator\\Anaconda3\\lib\\site-packages\\sklearn\\metrics\\classification.py:1135: UndefinedMetricWarning: F-score is ill-defined and being set to 0.0 due to no predicted samples.\n",
      "  'precision', 'predicted', average, warn_for)\n",
      "C:\\Users\\Administrator\\Anaconda3\\lib\\site-packages\\sklearn\\metrics\\classification.py:1135: UndefinedMetricWarning: F-score is ill-defined and being set to 0.0 due to no predicted samples.\n",
      "  'precision', 'predicted', average, warn_for)\n",
      "C:\\Users\\Administrator\\Anaconda3\\lib\\site-packages\\sklearn\\metrics\\classification.py:1135: UndefinedMetricWarning: F-score is ill-defined and being set to 0.0 due to no predicted samples.\n",
      "  'precision', 'predicted', average, warn_for)\n",
      "C:\\Users\\Administrator\\Anaconda3\\lib\\site-packages\\sklearn\\metrics\\classification.py:1135: UndefinedMetricWarning: F-score is ill-defined and being set to 0.0 due to no predicted samples.\n",
      "  'precision', 'predicted', average, warn_for)\n",
      "C:\\Users\\Administrator\\Anaconda3\\lib\\site-packages\\sklearn\\metrics\\classification.py:1135: UndefinedMetricWarning: F-score is ill-defined and being set to 0.0 due to no predicted samples.\n",
      "  'precision', 'predicted', average, warn_for)\n",
      "C:\\Users\\Administrator\\Anaconda3\\lib\\site-packages\\sklearn\\metrics\\classification.py:1135: UndefinedMetricWarning: F-score is ill-defined and being set to 0.0 due to no predicted samples.\n",
      "  'precision', 'predicted', average, warn_for)\n",
      "C:\\Users\\Administrator\\Anaconda3\\lib\\site-packages\\sklearn\\metrics\\classification.py:1135: UndefinedMetricWarning: F-score is ill-defined and being set to 0.0 due to no predicted samples.\n",
      "  'precision', 'predicted', average, warn_for)\n",
      "C:\\Users\\Administrator\\Anaconda3\\lib\\site-packages\\sklearn\\metrics\\classification.py:1135: UndefinedMetricWarning: F-score is ill-defined and being set to 0.0 due to no predicted samples.\n",
      "  'precision', 'predicted', average, warn_for)\n",
      "C:\\Users\\Administrator\\Anaconda3\\lib\\site-packages\\sklearn\\metrics\\classification.py:1135: UndefinedMetricWarning: F-score is ill-defined and being set to 0.0 due to no predicted samples.\n",
      "  'precision', 'predicted', average, warn_for)\n"
     ]
    },
    {
     "data": {
      "text/plain": [
       "GridSearchCV(cv=10, error_score='raise',\n",
       "       estimator=DecisionTreeClassifier(class_weight=None, criterion='gini', max_depth=None,\n",
       "            max_features=None, max_leaf_nodes=None,\n",
       "            min_impurity_decrease=0.0, min_impurity_split=None,\n",
       "            min_samples_leaf=1, min_samples_split=2,\n",
       "            min_weight_fraction_leaf=0.0, presort=False, random_state=100,\n",
       "            splitter='best'),\n",
       "       fit_params=None, iid=True, n_jobs=1,\n",
       "       param_grid={'max_depth': [1, 2, 3, 4, 5, 6, 7, 8, 9, 10, 11, 12, 13, 14, 15, 16, 17, 18, 19, 20, 21, 22, 23, 24, 25, 26, 27, 28, 29], 'criterion': ['gini', 'entropy']},\n",
       "       pre_dispatch='2*n_jobs', refit=True, return_train_score='warn',\n",
       "       scoring='f1', verbose=0)"
      ]
     },
     "execution_count": 66,
     "metadata": {},
     "output_type": "execute_result"
    }
   ],
   "source": [
    "from sklearn.model_selection import GridSearchCV\n",
    "\n",
    "params={'max_depth':list(range(1,30)),'criterion':['gini','entropy']}\n",
    "base_estimator=DecisionTreeClassifier(random_state=100)\n",
    "cv_model=GridSearchCV(base_estimator,param_grid=params,cv=10,scoring='f1')\n",
    "cv_model.fit(train_x,train_y)\n"
   ]
  },
  {
   "cell_type": "code",
   "execution_count": 68,
   "metadata": {},
   "outputs": [
    {
     "data": {
      "text/plain": [
       "{'criterion': 'entropy', 'max_depth': 8}"
      ]
     },
     "execution_count": 68,
     "metadata": {},
     "output_type": "execute_result"
    }
   ],
   "source": [
    "cv_model.best_params_"
   ]
  },
  {
   "cell_type": "code",
   "execution_count": 69,
   "metadata": {},
   "outputs": [
    {
     "data": {
      "text/plain": [
       "[({'criterion': 'gini', 'max_depth': 1}, 0.07913620934916409),\n",
       " ({'criterion': 'gini', 'max_depth': 2}, 0.23385725679061056),\n",
       " ({'criterion': 'gini', 'max_depth': 3}, 0.2760639710188038),\n",
       " ({'criterion': 'gini', 'max_depth': 4}, 0.327134955549247),\n",
       " ({'criterion': 'gini', 'max_depth': 5}, 0.30980476593165884),\n",
       " ({'criterion': 'gini', 'max_depth': 6}, 0.3572012846602346),\n",
       " ({'criterion': 'gini', 'max_depth': 7}, 0.381657563593007),\n",
       " ({'criterion': 'gini', 'max_depth': 8}, 0.3836105356083092),\n",
       " ({'criterion': 'gini', 'max_depth': 9}, 0.3655887753210776),\n",
       " ({'criterion': 'gini', 'max_depth': 10}, 0.3947536876892029),\n",
       " ({'criterion': 'gini', 'max_depth': 11}, 0.37539488983695696),\n",
       " ({'criterion': 'gini', 'max_depth': 12}, 0.41088210794521884),\n",
       " ({'criterion': 'gini', 'max_depth': 13}, 0.396175000080295),\n",
       " ({'criterion': 'gini', 'max_depth': 14}, 0.3762545686976288),\n",
       " ({'criterion': 'gini', 'max_depth': 15}, 0.4052999637290497),\n",
       " ({'criterion': 'gini', 'max_depth': 16}, 0.39879628619124413),\n",
       " ({'criterion': 'gini', 'max_depth': 17}, 0.39066514257733603),\n",
       " ({'criterion': 'gini', 'max_depth': 18}, 0.3843714686451781),\n",
       " ({'criterion': 'gini', 'max_depth': 19}, 0.38566722504297535),\n",
       " ({'criterion': 'gini', 'max_depth': 20}, 0.38566722504297535),\n",
       " ({'criterion': 'gini', 'max_depth': 21}, 0.38566722504297535),\n",
       " ({'criterion': 'gini', 'max_depth': 22}, 0.38566722504297535),\n",
       " ({'criterion': 'gini', 'max_depth': 23}, 0.38566722504297535),\n",
       " ({'criterion': 'gini', 'max_depth': 24}, 0.38566722504297535),\n",
       " ({'criterion': 'gini', 'max_depth': 25}, 0.38566722504297535),\n",
       " ({'criterion': 'gini', 'max_depth': 26}, 0.38566722504297535),\n",
       " ({'criterion': 'gini', 'max_depth': 27}, 0.38566722504297535),\n",
       " ({'criterion': 'gini', 'max_depth': 28}, 0.38566722504297535),\n",
       " ({'criterion': 'gini', 'max_depth': 29}, 0.38566722504297535),\n",
       " ({'criterion': 'entropy', 'max_depth': 1}, 0.0),\n",
       " ({'criterion': 'entropy', 'max_depth': 2}, 0.41688800852174257),\n",
       " ({'criterion': 'entropy', 'max_depth': 3}, 0.33695591412940346),\n",
       " ({'criterion': 'entropy', 'max_depth': 4}, 0.3328348894462048),\n",
       " ({'criterion': 'entropy', 'max_depth': 5}, 0.3153593888110012),\n",
       " ({'criterion': 'entropy', 'max_depth': 6}, 0.3643369206893567),\n",
       " ({'criterion': 'entropy', 'max_depth': 7}, 0.39560498379583614),\n",
       " ({'criterion': 'entropy', 'max_depth': 8}, 0.41932533600964517),\n",
       " ({'criterion': 'entropy', 'max_depth': 9}, 0.38584584080210893),\n",
       " ({'criterion': 'entropy', 'max_depth': 10}, 0.3832366617008552),\n",
       " ({'criterion': 'entropy', 'max_depth': 11}, 0.37297701660299243),\n",
       " ({'criterion': 'entropy', 'max_depth': 12}, 0.40139022683303077),\n",
       " ({'criterion': 'entropy', 'max_depth': 13}, 0.3933566874353041),\n",
       " ({'criterion': 'entropy', 'max_depth': 14}, 0.4002857540382228),\n",
       " ({'criterion': 'entropy', 'max_depth': 15}, 0.401430631412114),\n",
       " ({'criterion': 'entropy', 'max_depth': 16}, 0.4028744742553737),\n",
       " ({'criterion': 'entropy', 'max_depth': 17}, 0.4028744742553737),\n",
       " ({'criterion': 'entropy', 'max_depth': 18}, 0.4028744742553737),\n",
       " ({'criterion': 'entropy', 'max_depth': 19}, 0.4028744742553737),\n",
       " ({'criterion': 'entropy', 'max_depth': 20}, 0.4028744742553737),\n",
       " ({'criterion': 'entropy', 'max_depth': 21}, 0.4028744742553737),\n",
       " ({'criterion': 'entropy', 'max_depth': 22}, 0.4028744742553737),\n",
       " ({'criterion': 'entropy', 'max_depth': 23}, 0.4028744742553737),\n",
       " ({'criterion': 'entropy', 'max_depth': 24}, 0.4028744742553737),\n",
       " ({'criterion': 'entropy', 'max_depth': 25}, 0.4028744742553737),\n",
       " ({'criterion': 'entropy', 'max_depth': 26}, 0.4028744742553737),\n",
       " ({'criterion': 'entropy', 'max_depth': 27}, 0.4028744742553737),\n",
       " ({'criterion': 'entropy', 'max_depth': 28}, 0.4028744742553737),\n",
       " ({'criterion': 'entropy', 'max_depth': 29}, 0.4028744742553737)]"
      ]
     },
     "execution_count": 69,
     "metadata": {},
     "output_type": "execute_result"
    }
   ],
   "source": [
    "#cv_model.grid_scores_\n",
    "list(zip(cv_model.cv_results_['params'],cv_model.cv_results_['mean_test_score']))"
   ]
  },
  {
   "cell_type": "raw",
   "metadata": {},
   "source": []
  },
  {
   "cell_type": "code",
   "execution_count": null,
   "metadata": {},
   "outputs": [],
   "source": []
  },
  {
   "cell_type": "code",
   "execution_count": null,
   "metadata": {},
   "outputs": [],
   "source": []
  }
 ],
 "metadata": {
  "kernelspec": {
   "display_name": "Python 3",
   "language": "python",
   "name": "python3"
  },
  "language_info": {
   "codemirror_mode": {
    "name": "ipython",
    "version": 3
   },
   "file_extension": ".py",
   "mimetype": "text/x-python",
   "name": "python",
   "nbconvert_exporter": "python",
   "pygments_lexer": "ipython3",
   "version": "3.6.5"
  }
 },
 "nbformat": 4,
 "nbformat_minor": 2
}
