{
 "cells": [
  {
   "cell_type": "code",
   "execution_count": 19,
   "metadata": {},
   "outputs": [],
   "source": [
    "import pandas as pd\n",
    "import numpy as np\n",
    "from sklearn.model_selection import train_test_split\n",
    "from sklearn.ensemble import RandomForestClassifier,AdaBoostClassifier\n",
    "from sklearn.tree import DecisionTreeClassifier\n",
    "import matplotlib.pyplot as plt\n",
    "from sklearn.metrics import accuracy_score,classification_report,confusion_matrix,roc_curve"
   ]
  },
  {
   "cell_type": "code",
   "execution_count": 2,
   "metadata": {},
   "outputs": [],
   "source": [
    "hr = pd.read_csv('https://raw.githubusercontent.com/skathirmani/datasets/master/HR%20Analytics.csv')\n",
    "hr_dummies = pd.get_dummies(hr)\n",
    "\n",
    "\n",
    "train, test = train_test_split(hr_dummies,\n",
    "                               test_size=0.3,\n",
    "                               random_state=100)"
   ]
  },
  {
   "cell_type": "code",
   "execution_count": 3,
   "metadata": {},
   "outputs": [
    {
     "data": {
      "text/plain": [
       "AdaBoostClassifier(algorithm='SAMME.R', base_estimator=None,\n",
       "          learning_rate=1.0, n_estimators=500, random_state=100)"
      ]
     },
     "execution_count": 3,
     "metadata": {},
     "output_type": "execute_result"
    }
   ],
   "source": [
    "train_x=train.drop('Attrition',axis=1)\n",
    "train_y=train['Attrition']\n",
    "\n",
    "test_x=test.drop('Attrition',axis=1)\n",
    "test_y=test['Attrition']\n",
    "\n",
    "model=AdaBoostClassifier(random_state=100, n_estimators=500)\n",
    "model.fit(train_x,train_y)"
   ]
  },
  {
   "cell_type": "code",
   "execution_count": 4,
   "metadata": {},
   "outputs": [
    {
     "name": "stdout",
     "output_type": "stream",
     "text": [
      "0.8571428571428571\n",
      "             precision    recall  f1-score   support\n",
      "\n",
      "          0       0.90      0.93      0.92       371\n",
      "          1       0.56      0.46      0.50        70\n",
      "\n",
      "avg / total       0.85      0.86      0.85       441\n",
      "\n"
     ]
    }
   ],
   "source": [
    "pred_test=model.predict(test_x)\n",
    "print(accuracy_score(test_y,pred_test))\n",
    "print(classification_report(test_y,pred_test))"
   ]
  },
  {
   "cell_type": "code",
   "execution_count": 5,
   "metadata": {},
   "outputs": [
    {
     "data": {
      "text/plain": [
       "DecisionTreeClassifier(class_weight=None, criterion='gini', max_depth=1,\n",
       "            max_features=None, max_leaf_nodes=None,\n",
       "            min_impurity_decrease=0.0, min_impurity_split=None,\n",
       "            min_samples_leaf=1, min_samples_split=2,\n",
       "            min_weight_fraction_leaf=0.0, presort=False,\n",
       "            random_state=186422792, splitter='best')"
      ]
     },
     "execution_count": 5,
     "metadata": {},
     "output_type": "execute_result"
    }
   ],
   "source": [
    "model.estimators_[0]"
   ]
  },
  {
   "cell_type": "code",
   "execution_count": 6,
   "metadata": {},
   "outputs": [],
   "source": [
    "def draw_tree(model, columns):\n",
    "    import pydotplus\n",
    "    from sklearn.externals.six import StringIO\n",
    "    from IPython.display import Image\n",
    "    import os\n",
    "    from sklearn import tree\n",
    "    \n",
    "    graphviz_path = 'C:\\Program Files (x86)\\Graphviz2.38/bin/'\n",
    "    os.environ[\"PATH\"] += os.pathsep + graphviz_path\n",
    "\n",
    "    dot_data = StringIO()\n",
    "    tree.export_graphviz(model,\n",
    "                         out_file=dot_data,\n",
    "                         feature_names=columns)\n",
    "    graph = pydotplus.graph_from_dot_data(dot_data.getvalue())  \n",
    "    return Image(graph.create_png())"
   ]
  },
  {
   "cell_type": "code",
   "execution_count": 7,
   "metadata": {},
   "outputs": [
    {
     "name": "stdout",
     "output_type": "stream",
     "text": [
      "[0.16229349 0.34244608 0.36434203 0.40214249 0.40601838]\n"
     ]
    }
   ],
   "source": [
    "draw_tree(model.estimators_[250],train_x.columns)\n",
    "print(model.estimator_errors_[:5])\n",
    "#print(model.estimator_proba_)"
   ]
  },
  {
   "cell_type": "markdown",
   "metadata": {},
   "source": [
    "## Specifisity and Sensitivity "
   ]
  },
  {
   "cell_type": "code",
   "execution_count": 8,
   "metadata": {},
   "outputs": [
    {
     "name": "stdout",
     "output_type": "stream",
     "text": [
      "0      0\n",
      "1      0\n",
      "2      0\n",
      "3      0\n",
      "4      1\n",
      "5      0\n",
      "6      0\n",
      "7      0\n",
      "8      0\n",
      "9      0\n",
      "10     0\n",
      "11     0\n",
      "12     0\n",
      "13     0\n",
      "14     1\n",
      "15     0\n",
      "16     0\n",
      "17     0\n",
      "18     0\n",
      "19     0\n",
      "20     0\n",
      "21     0\n",
      "22     0\n",
      "23     0\n",
      "24     0\n",
      "25     0\n",
      "26     0\n",
      "27     0\n",
      "28     0\n",
      "29     0\n",
      "      ..\n",
      "411    0\n",
      "412    0\n",
      "413    0\n",
      "414    0\n",
      "415    0\n",
      "416    0\n",
      "417    0\n",
      "418    0\n",
      "419    1\n",
      "420    0\n",
      "421    0\n",
      "422    0\n",
      "423    0\n",
      "424    0\n",
      "425    0\n",
      "426    0\n",
      "427    0\n",
      "428    0\n",
      "429    0\n",
      "430    0\n",
      "431    0\n",
      "432    0\n",
      "433    1\n",
      "434    1\n",
      "435    1\n",
      "436    1\n",
      "437    0\n",
      "438    0\n",
      "439    1\n",
      "440    0\n",
      "Name: Pos, Length: 441, dtype: int64\n",
      "             precision    recall  f1-score   support\n",
      "\n",
      "          0       0.90      0.93      0.92       371\n",
      "          1       0.56      0.46      0.50        70\n",
      "\n",
      "avg / total       0.85      0.86      0.85       441\n",
      "\n"
     ]
    }
   ],
   "source": [
    "pred_probs=pd.DataFrame(model.predict_proba(test_x),columns=['Neg','Pos'])\n",
    "pred_test=pred_probs['Pos'].apply(lambda v: 1 if v>0.5 else 0)\n",
    "print(pred_test)\n",
    "print(classification_report(test_y,pred_test))\n",
    "\n",
    "#i am ok to decrease a little bit of my specificity if my sensitivity is very high"
   ]
  },
  {
   "cell_type": "code",
   "execution_count": 9,
   "metadata": {},
   "outputs": [
    {
     "name": "stdout",
     "output_type": "stream",
     "text": [
      "0.45714285714285713 0.9326145552560647\n"
     ]
    }
   ],
   "source": [
    "tn,fp,fn,tp=confusion_matrix(test_y,pred_test).ravel()\n",
    "sensitivity=(tp)/(tp+fn)\n",
    "specificity=(tn)/(tn+fp)\n",
    "print(sensitivity,specificity)"
   ]
  },
  {
   "cell_type": "code",
   "execution_count": 10,
   "metadata": {},
   "outputs": [
    {
     "name": "stdout",
     "output_type": "stream",
     "text": [
      "0.4857142857142857 0.8867924528301887\n"
     ]
    }
   ],
   "source": [
    "pred_test=pred_probs['Pos'].apply(lambda v: 1 if v>0.4994 else 0)\n",
    "tn,fp,fn,tp=confusion_matrix(test_y,pred_test).ravel()\n",
    "sensitivity=(tp)/(tp+fn)\n",
    "specificity=(tn)/(tn+fp)\n",
    "print(sensitivity,specificity)"
   ]
  },
  {
   "cell_type": "code",
   "execution_count": 13,
   "metadata": {},
   "outputs": [
    {
     "data": {
      "text/plain": [
       "[<matplotlib.lines.Line2D at 0x1af321844a8>]"
      ]
     },
     "execution_count": 13,
     "metadata": {},
     "output_type": "execute_result"
    },
    {
     "data": {
      "image/png": "[encoded data removed]",
      "text/plain": [
       "<Figure size 432x288 with 1 Axes>"
      ]
     },
     "metadata": {},
     "output_type": "display_data"
    }
   ],
   "source": [
    "thresholds=[]\n",
    "tpr=[]\n",
    "fpr=[]\n",
    "pred_probs=pd.DataFrame(model.predict_proba(test_x),columns=['Neg','Pos'])\n",
    "for threshold in np.linspace(0,1,1000):\n",
    "    pred_test=pred_probs['Pos'].apply(lambda v:1 if v > threshold else 0)\n",
    "    tn,fp,fn,tp=confusion_matrix(test_y,pred_test).ravel()\n",
    "    sens=(tp)/(tp+fn)\n",
    "    spec=(tn)/(tn+fp)\n",
    "    \n",
    "    thresholds.append(thresholds)\n",
    "    tpr.append(sens)\n",
    "    fpr.append(1-spec)\n",
    "plt.plot(fpr,tpr)"
   ]
  },
  {
   "cell_type": "code",
   "execution_count": 18,
   "metadata": {},
   "outputs": [
    {
     "data": {
      "image/png": "[encoded data removed]",
      "text/plain": [
       "<Figure size 432x288 with 1 Axes>"
      ]
     },
     "metadata": {},
     "output_type": "display_data"
    },
    {
     "name": "stdout",
     "output_type": "stream",
     "text": [
      "[0.50741782 0.50327021 0.5032061  0.50315286 0.50232719 0.50228595\n",
      " 0.50212682 0.50205649 0.50197146 0.50187197 0.50164535 0.50164061\n",
      " 0.50151973 0.5014139  0.50138626 0.5013225  0.50131191 0.50109972\n",
      " 0.50105362 0.50080658 0.5007963  0.50069968 0.50056071 0.50022257\n",
      " 0.50013339 0.50010827 0.49959668 0.49958293 0.49954824 0.49954428\n",
      " 0.4993258  0.49927337 0.49910793 0.49891979 0.49876076 0.49873992\n",
      " 0.49873305 0.49868929 0.49866895 0.49866847 0.49864511 0.49862544\n",
      " 0.4983692  0.49835718 0.4983234  0.49831264 0.49817055 0.49816763\n",
      " 0.49812474 0.49806983 0.49805067 0.49798979 0.49790084 0.49787194\n",
      " 0.49784179 0.49781266 0.49765466 0.49760946 0.49757339 0.49755955\n",
      " 0.4975311  0.49752325 0.49705051 0.497039   0.4964109  0.49638126\n",
      " 0.49623825 0.49622177 0.49589374 0.49588551 0.49568905 0.49567392\n",
      " 0.49454157 0.49450989 0.49446224 0.49444325 0.4939905  0.49394943\n",
      " 0.49371934 0.49369676 0.49267215 0.49266668 0.49206695 0.4920053\n",
      " 0.49011546 0.49010645 0.48680083 0.48678765 0.48495519 0.48354143\n",
      " 0.48119805 0.48103557 0.45769546]\n"
     ]
    }
   ],
   "source": [
    "tpr,fpr,thresholds=roc_curve(test_y,pred_probs['Pos'])\n",
    "plt.plot(tpr,fpr)\n",
    "plt.show()\n",
    "print(thresholds)"
   ]
  },
  {
   "cell_type": "code",
   "execution_count": 28,
   "metadata": {},
   "outputs": [],
   "source": [
    "fpr_ada_bst_300,tpr_ada_bst_300,thr_ada_bst_300=roc_curve(test_y,pred_probs['Pos'])\n",
    "#plt.plot(fpr_ada_bst_300,tpr_ada_bst_300)"
   ]
  },
  {
   "cell_type": "code",
   "execution_count": 29,
   "metadata": {},
   "outputs": [],
   "source": [
    "model_dt=DecisionTreeClassifier(random_state=100,max_depth=5)\n",
    "model_dt.fit(train_x,train_y)\n",
    "pred_probs_dt=pd.DataFrame(model_dt.predict_proba(test_x),columns=['Neg','Pos'])\n",
    "\n",
    "fpr_dt_5,tpr_dt_5,thr_dt_5=roc_curve(test_y,pred_probs_dt['Pos'])\n",
    "\n",
    "model_rf=RandomForestClassifier(random_state=100,n_estimators=300)\n",
    "model_rf.fit(train_x,train_y)\n",
    "pred_probs_rf=pd.DataFrame(model_rf.predict_proba(test_x),columns=['Neg','Pos'])\n",
    "\n",
    "fpr_rf_300,tpr_rf_300,thr_rf_300=roc_curve(test_y,pred_probs_rf['Pos'])"
   ]
  },
  {
   "cell_type": "code",
   "execution_count": 31,
   "metadata": {},
   "outputs": [
    {
     "data": {
      "text/plain": [
       "<matplotlib.legend.Legend at 0x1af323b07f0>"
      ]
     },
     "execution_count": 31,
     "metadata": {},
     "output_type": "execute_result"
    },
    {
     "data": {
      "image/png": "[encoded data removed]",
      "text/plain": [
       "<Figure size 432x288 with 1 Axes>"
      ]
     },
     "metadata": {},
     "output_type": "display_data"
    }
   ],
   "source": [
    "plt.plot(fpr_ada_bst_300,tpr_ada_bst_300)\n",
    "plt.plot(fpr_dt_5,tpr_dt_5)\n",
    "plt.plot(fpr_rf_300,tpr_rf_300)\n",
    "plt.legend(['Ada Boost(300 estimates)',\n",
    "           'Decision tree(depth 5)',\n",
    "           'Random forest(300 estimates)'])"
   ]
  },
  {
   "cell_type": "code",
   "execution_count": 37,
   "metadata": {},
   "outputs": [
    {
     "data": {
      "text/plain": [
       "<matplotlib.legend.Legend at 0x1af33707978>"
      ]
     },
     "execution_count": 37,
     "metadata": {},
     "output_type": "execute_result"
    },
    {
     "data": {
      "image/png": "[encoded data removed]",
      "text/plain": [
       "<Figure size 432x288 with 1 Axes>"
      ]
     },
     "metadata": {},
     "output_type": "display_data"
    }
   ],
   "source": [
    "from sklearn.metrics import auc\n",
    "auc_adabst_300=auc(fpr_ada_bst_300,tpr_ada_bst_300)\n",
    "auc_dt_5=auc(fpr_dt_5,tpr_dt_5)\n",
    "auc_rf_300=auc(fpr_rf_300,tpr_rf_300)\n",
    "\n",
    "plt.plot(fpr_ada_bst_300,tpr_ada_bst_300)\n",
    "plt.plot(fpr_dt_5,tpr_dt_5)\n",
    "plt.plot(fpr_rf_300,tpr_rf_300)\n",
    "\n",
    "plt.legend(['Ada Boost (300 estimators)-AUC:%.3f' %auc_adabst_300,\n",
    "            'Decision tree (5 depth)-AUC:%.3f' %auc_dt_5,\n",
    "           'Random Forest(300 estimates-AUC:%.3f)' %auc_rf_300])"
   ]
  },
  {
   "cell_type": "markdown",
   "metadata": {},
   "source": [
    "# F1-score"
   ]
  },
  {
   "cell_type": "code",
   "execution_count": 48,
   "metadata": {},
   "outputs": [
    {
     "name": "stdout",
     "output_type": "stream",
     "text": [
      "0.49 0.27789473684210525\n",
      "0.4901010101010101 0.27789473684210525\n",
      "0.4902020202020202 0.27484143763213525\n",
      "0.4903030303030303 0.2760084925690021\n",
      "0.4904040404040404 0.2760084925690021\n",
      "0.4905050505050505 0.2760084925690021\n",
      "0.4906060606060606 0.2760084925690021\n",
      "0.4907070707070707 0.2765957446808511\n",
      "0.4908080808080808 0.2771855010660981\n",
      "0.4909090909090909 0.2771855010660981\n",
      "0.491010101010101 0.278372591006424\n",
      "0.4911111111111111 0.278372591006424\n",
      "0.4912121212121212 0.2801724137931035\n",
      "0.4913131313131313 0.28138528138528135\n",
      "0.4914141414141414 0.2826086956521739\n",
      "0.4915151515151515 0.2838427947598253\n",
      "0.4916161616161616 0.28571428571428575\n",
      "0.4917171717171717 0.28571428571428575\n",
      "0.4918181818181818 0.28634361233480177\n",
      "0.4919191919191919 0.28761061946902655\n",
      "0.492020202020202 0.28381374722838143\n",
      "0.4921212121212121 0.28444444444444444\n",
      "0.4922222222222222 0.28507795100222716\n",
      "0.49232323232323233 0.28699551569506726\n",
      "0.49242424242424243 0.2882882882882883\n",
      "0.49252525252525253 0.29024943310657597\n",
      "0.49262626262626263 0.2915717539863326\n",
      "0.49272727272727274 0.2903225806451613\n",
      "0.49282828282828284 0.2903225806451613\n",
      "0.49292929292929294 0.2903225806451613\n",
      "0.49303030303030304 0.2937062937062937\n",
      "0.49313131313131314 0.2950819672131148\n",
      "0.49323232323232324 0.2964705882352941\n",
      "0.49333333333333335 0.2964705882352941\n",
      "0.49343434343434345 0.3\n",
      "0.49353535353535355 0.30434782608695654\n",
      "0.49363636363636365 0.30508474576271183\n",
      "0.49373737373737375 0.30392156862745096\n",
      "0.49383838383838385 0.30617283950617286\n",
      "0.49393939393939396 0.308457711442786\n",
      "0.49404040404040406 0.305\n",
      "0.49414141414141416 0.30964467005076146\n",
      "0.49424242424242426 0.3112244897959183\n",
      "0.49434343434343436 0.3136246786632391\n",
      "0.49444444444444446 0.3100775193798449\n",
      "0.49454545454545457 0.3089005235602094\n",
      "0.49464646464646467 0.31382978723404253\n",
      "0.49474747474747477 0.31550802139037426\n",
      "0.49484848484848487 0.3189189189189189\n",
      "0.494949494949495 0.3232876712328767\n",
      "0.4950505050505051 0.3305322128851541\n",
      "0.4951515151515151 0.33146067415730335\n",
      "0.4952525252525252 0.3352272727272727\n",
      "0.4953535353535353 0.3430232558139535\n",
      "0.4954545454545454 0.3511904761904761\n",
      "0.4955555555555555 0.3586626139817629\n",
      "0.49565656565656563 0.36419753086419754\n",
      "0.49575757575757573 0.3625\n",
      "0.49585858585858583 0.36593059936908523\n",
      "0.49595959595959593 0.36655948553054657\n",
      "0.49606060606060604 0.3701298701298701\n",
      "0.49616161616161614 0.37254901960784315\n",
      "0.49626262626262624 0.36963696369636967\n",
      "0.49636363636363634 0.3758389261744966\n",
      "0.49646464646464644 0.37931034482758624\n",
      "0.49656565656565654 0.38461538461538464\n",
      "0.49666666666666665 0.38596491228070184\n",
      "0.49676767676767675 0.3900709219858156\n",
      "0.49686868686868685 0.39285714285714285\n",
      "0.49696969696969695 0.40145985401459855\n",
      "0.49707070707070705 0.4075471698113208\n",
      "0.49717171717171715 0.4137931034482759\n",
      "0.49727272727272726 0.4285714285714286\n",
      "0.49737373737373736 0.4337349397590362\n",
      "0.49747474747474746 0.4462809917355372\n",
      "0.49757575757575756 0.45021645021645024\n",
      "0.49767676767676766 0.45535714285714285\n",
      "0.49777777777777776 0.4657534246575342\n",
      "0.49787878787878787 0.4579439252336448\n",
      "0.49797979797979797 0.46445497630331756\n",
      "0.49808080808080807 0.4541062801932367\n",
      "0.49818181818181817 0.4577114427860696\n",
      "0.49828282828282827 0.4717948717948718\n",
      "0.4983838383838384 0.4680851063829788\n",
      "0.4984848484848485 0.4782608695652174\n",
      "0.4985858585858586 0.48618784530386744\n",
      "0.4986868686868687 0.4739884393063584\n",
      "0.4987878787878788 0.4642857142857143\n",
      "0.4988888888888889 0.4814814814814815\n",
      "0.498989898989899 0.47500000000000003\n",
      "0.4990909090909091 0.46540880503144655\n",
      "0.4991919191919192 0.4713375796178344\n",
      "0.4992929292929293 0.4635761589403974\n",
      "0.4993939393939394 0.4657534246575342\n",
      "0.4994949494949495 0.4689655172413793\n",
      "0.4995959595959596 0.4507042253521127\n",
      "0.4996969696969697 0.4740740740740741\n",
      "0.4997979797979798 0.481203007518797\n",
      "0.4998989898989899 0.4923076923076923\n",
      "0.5 0.5039370078740157\n"
     ]
    }
   ],
   "source": [
    "from sklearn.metrics import f1_score\n",
    "\n",
    "for threshold in np.linspace(0.49,0.5,100):\n",
    "    pred_class=pred_probs['Pos'].apply(lambda v : 1if v> threshold else 0)\n",
    "    print(threshold,f1_score(test_y,pred_class))"
   ]
  },
  {
   "cell_type": "markdown",
   "metadata": {},
   "source": [
    "# Naive Bayes "
   ]
  },
  {
   "cell_type": "code",
   "execution_count": 49,
   "metadata": {},
   "outputs": [
    {
     "data": {
      "text/plain": [
       "0.8377065111758989"
      ]
     },
     "execution_count": 49,
     "metadata": {},
     "output_type": "execute_result"
    }
   ],
   "source": [
    "a=train[train['Attrition']==0].shape[0]\n",
    "b=train['Attrition'].shape[0]\n",
    "prob=a/b\n",
    "prob"
   ]
  },
  {
   "cell_type": "code",
   "execution_count": 44,
   "metadata": {},
   "outputs": [
    {
     "data": {
      "text/plain": [
       "(1029,)"
      ]
     },
     "execution_count": 44,
     "metadata": {},
     "output_type": "execute_result"
    }
   ],
   "source": [
    "## bayes theorem with a variable having categorical cols and "
   ]
  },
  {
   "cell_type": "code",
   "execution_count": 53,
   "metadata": {},
   "outputs": [
    {
     "data": {
      "text/plain": [
       "Attrition\n",
       "0    862\n",
       "1    167\n",
       "dtype: int64"
      ]
     },
     "execution_count": 53,
     "metadata": {},
     "output_type": "execute_result"
    }
   ],
   "source": [
    "pd.crosstab(train['Attrition'],train['Gender_Male']).sum()#by default colsum\n",
    "#pd.crosstab(train['Attrition'],train['Gender_Male']).sum(axis=1)#row sums"
   ]
  },
  {
   "cell_type": "code",
   "execution_count": 56,
   "metadata": {},
   "outputs": [
    {
     "data": {
      "text/plain": [
       "Attrition\n",
       "0    862\n",
       "1    167\n",
       "dtype: int64"
      ]
     },
     "execution_count": 56,
     "metadata": {},
     "output_type": "execute_result"
    }
   ],
   "source": [
    "temp=hr.loc[train.index]#row labels of the trains(train.index)\n",
    "pd.crosstab(temp['Attrition'],temp['MaritalStatus']).sum()\n",
    "pd.crosstab(temp['Attrition'],temp['MaritalStatus']).sum(axis=1)"
   ]
  },
  {
   "cell_type": "markdown",
   "metadata": {},
   "source": [
    "# Binning numerical columns "
   ]
  },
  {
   "cell_type": "code",
   "execution_count": 58,
   "metadata": {},
   "outputs": [
    {
     "data": {
      "text/plain": [
       "0.00    18.0\n",
       "0.25    30.0\n",
       "0.50    36.0\n",
       "0.75    42.0\n",
       "1.00    60.0\n",
       "Name: Age, dtype: float64"
      ]
     },
     "execution_count": 58,
     "metadata": {},
     "output_type": "execute_result"
    }
   ],
   "source": [
    "train['Age'].quantile([0,0.25,0.5,0.75,1])"
   ]
  },
  {
   "cell_type": "code",
   "execution_count": 63,
   "metadata": {},
   "outputs": [
    {
     "name": "stderr",
     "output_type": "stream",
     "text": [
      "C:\\Users\\Administrator\\Anaconda3\\lib\\site-packages\\ipykernel_launcher.py:2: SettingWithCopyWarning: \n",
      "A value is trying to be set on a copy of a slice from a DataFrame.\n",
      "Try using .loc[row_indexer,col_indexer] = value instead\n",
      "\n",
      "See the caveats in the documentation: http://pandas.pydata.org/pandas-docs/stable/indexing.html#indexing-view-versus-copy\n",
      "  \n",
      "C:\\Users\\Administrator\\Anaconda3\\lib\\site-packages\\ipykernel_launcher.py:3: SettingWithCopyWarning: \n",
      "A value is trying to be set on a copy of a slice from a DataFrame.\n",
      "Try using .loc[row_indexer,col_indexer] = value instead\n",
      "\n",
      "See the caveats in the documentation: http://pandas.pydata.org/pandas-docs/stable/indexing.html#indexing-view-versus-copy\n",
      "  This is separate from the ipykernel package so we can avoid doing imports until\n"
     ]
    },
    {
     "data": {
      "text/html": [
       "<div>\n",
       "<style scoped>\n",
       "    .dataframe tbody tr th:only-of-type {\n",
       "        vertical-align: middle;\n",
       "    }\n",
       "\n",
       "    .dataframe tbody tr th {\n",
       "        vertical-align: top;\n",
       "    }\n",
       "\n",
       "    .dataframe thead th {\n",
       "        text-align: right;\n",
       "    }\n",
       "</style>\n",
       "<table border=\"1\" class=\"dataframe\">\n",
       "  <thead>\n",
       "    <tr style=\"text-align: right;\">\n",
       "      <th></th>\n",
       "      <th>Age</th>\n",
       "      <th>Age_Group</th>\n",
       "    </tr>\n",
       "  </thead>\n",
       "  <tbody>\n",
       "    <tr>\n",
       "      <th>178</th>\n",
       "      <td>46</td>\n",
       "      <td>Group-4</td>\n",
       "    </tr>\n",
       "    <tr>\n",
       "      <th>971</th>\n",
       "      <td>51</td>\n",
       "      <td>Group-4</td>\n",
       "    </tr>\n",
       "    <tr>\n",
       "      <th>1172</th>\n",
       "      <td>29</td>\n",
       "      <td>Group-1</td>\n",
       "    </tr>\n",
       "    <tr>\n",
       "      <th>667</th>\n",
       "      <td>41</td>\n",
       "      <td>Group-3</td>\n",
       "    </tr>\n",
       "    <tr>\n",
       "      <th>399</th>\n",
       "      <td>31</td>\n",
       "      <td>Group-2</td>\n",
       "    </tr>\n",
       "    <tr>\n",
       "      <th>634</th>\n",
       "      <td>25</td>\n",
       "      <td>Group-1</td>\n",
       "    </tr>\n",
       "    <tr>\n",
       "      <th>266</th>\n",
       "      <td>31</td>\n",
       "      <td>Group-2</td>\n",
       "    </tr>\n",
       "    <tr>\n",
       "      <th>210</th>\n",
       "      <td>32</td>\n",
       "      <td>Group-2</td>\n",
       "    </tr>\n",
       "    <tr>\n",
       "      <th>318</th>\n",
       "      <td>27</td>\n",
       "      <td>Group-1</td>\n",
       "    </tr>\n",
       "    <tr>\n",
       "      <th>239</th>\n",
       "      <td>32</td>\n",
       "      <td>Group-2</td>\n",
       "    </tr>\n",
       "    <tr>\n",
       "      <th>1002</th>\n",
       "      <td>35</td>\n",
       "      <td>Group-2</td>\n",
       "    </tr>\n",
       "    <tr>\n",
       "      <th>519</th>\n",
       "      <td>29</td>\n",
       "      <td>Group-1</td>\n",
       "    </tr>\n",
       "    <tr>\n",
       "      <th>1425</th>\n",
       "      <td>33</td>\n",
       "      <td>Group-2</td>\n",
       "    </tr>\n",
       "    <tr>\n",
       "      <th>390</th>\n",
       "      <td>43</td>\n",
       "      <td>Group-4</td>\n",
       "    </tr>\n",
       "    <tr>\n",
       "      <th>892</th>\n",
       "      <td>19</td>\n",
       "      <td>Group-1</td>\n",
       "    </tr>\n",
       "    <tr>\n",
       "      <th>1297</th>\n",
       "      <td>26</td>\n",
       "      <td>Group-1</td>\n",
       "    </tr>\n",
       "    <tr>\n",
       "      <th>342</th>\n",
       "      <td>31</td>\n",
       "      <td>Group-2</td>\n",
       "    </tr>\n",
       "    <tr>\n",
       "      <th>114</th>\n",
       "      <td>34</td>\n",
       "      <td>Group-2</td>\n",
       "    </tr>\n",
       "    <tr>\n",
       "      <th>619</th>\n",
       "      <td>33</td>\n",
       "      <td>Group-2</td>\n",
       "    </tr>\n",
       "    <tr>\n",
       "      <th>365</th>\n",
       "      <td>46</td>\n",
       "      <td>Group-4</td>\n",
       "    </tr>\n",
       "    <tr>\n",
       "      <th>308</th>\n",
       "      <td>58</td>\n",
       "      <td>Group-4</td>\n",
       "    </tr>\n",
       "    <tr>\n",
       "      <th>1322</th>\n",
       "      <td>46</td>\n",
       "      <td>Group-4</td>\n",
       "    </tr>\n",
       "    <tr>\n",
       "      <th>715</th>\n",
       "      <td>33</td>\n",
       "      <td>Group-2</td>\n",
       "    </tr>\n",
       "    <tr>\n",
       "      <th>1087</th>\n",
       "      <td>34</td>\n",
       "      <td>Group-2</td>\n",
       "    </tr>\n",
       "    <tr>\n",
       "      <th>25</th>\n",
       "      <td>53</td>\n",
       "      <td>Group-4</td>\n",
       "    </tr>\n",
       "    <tr>\n",
       "      <th>591</th>\n",
       "      <td>33</td>\n",
       "      <td>Group-2</td>\n",
       "    </tr>\n",
       "    <tr>\n",
       "      <th>88</th>\n",
       "      <td>30</td>\n",
       "      <td>Group-2</td>\n",
       "    </tr>\n",
       "    <tr>\n",
       "      <th>669</th>\n",
       "      <td>39</td>\n",
       "      <td>Group-3</td>\n",
       "    </tr>\n",
       "    <tr>\n",
       "      <th>924</th>\n",
       "      <td>35</td>\n",
       "      <td>Group-2</td>\n",
       "    </tr>\n",
       "    <tr>\n",
       "      <th>111</th>\n",
       "      <td>34</td>\n",
       "      <td>Group-2</td>\n",
       "    </tr>\n",
       "    <tr>\n",
       "      <th>...</th>\n",
       "      <td>...</td>\n",
       "      <td>...</td>\n",
       "    </tr>\n",
       "    <tr>\n",
       "      <th>2</th>\n",
       "      <td>37</td>\n",
       "      <td>Group-3</td>\n",
       "    </tr>\n",
       "    <tr>\n",
       "      <th>1360</th>\n",
       "      <td>31</td>\n",
       "      <td>Group-2</td>\n",
       "    </tr>\n",
       "    <tr>\n",
       "      <th>763</th>\n",
       "      <td>34</td>\n",
       "      <td>Group-2</td>\n",
       "    </tr>\n",
       "    <tr>\n",
       "      <th>967</th>\n",
       "      <td>40</td>\n",
       "      <td>Group-3</td>\n",
       "    </tr>\n",
       "    <tr>\n",
       "      <th>782</th>\n",
       "      <td>30</td>\n",
       "      <td>Group-2</td>\n",
       "    </tr>\n",
       "    <tr>\n",
       "      <th>317</th>\n",
       "      <td>52</td>\n",
       "      <td>Group-4</td>\n",
       "    </tr>\n",
       "    <tr>\n",
       "      <th>49</th>\n",
       "      <td>35</td>\n",
       "      <td>Group-2</td>\n",
       "    </tr>\n",
       "    <tr>\n",
       "      <th>135</th>\n",
       "      <td>36</td>\n",
       "      <td>Group-3</td>\n",
       "    </tr>\n",
       "    <tr>\n",
       "      <th>835</th>\n",
       "      <td>35</td>\n",
       "      <td>Group-2</td>\n",
       "    </tr>\n",
       "    <tr>\n",
       "      <th>603</th>\n",
       "      <td>45</td>\n",
       "      <td>Group-4</td>\n",
       "    </tr>\n",
       "    <tr>\n",
       "      <th>1028</th>\n",
       "      <td>41</td>\n",
       "      <td>Group-3</td>\n",
       "    </tr>\n",
       "    <tr>\n",
       "      <th>612</th>\n",
       "      <td>28</td>\n",
       "      <td>Group-1</td>\n",
       "    </tr>\n",
       "    <tr>\n",
       "      <th>757</th>\n",
       "      <td>34</td>\n",
       "      <td>Group-2</td>\n",
       "    </tr>\n",
       "    <tr>\n",
       "      <th>1165</th>\n",
       "      <td>44</td>\n",
       "      <td>Group-4</td>\n",
       "    </tr>\n",
       "    <tr>\n",
       "      <th>897</th>\n",
       "      <td>59</td>\n",
       "      <td>Group-4</td>\n",
       "    </tr>\n",
       "    <tr>\n",
       "      <th>415</th>\n",
       "      <td>34</td>\n",
       "      <td>Group-2</td>\n",
       "    </tr>\n",
       "    <tr>\n",
       "      <th>386</th>\n",
       "      <td>37</td>\n",
       "      <td>Group-3</td>\n",
       "    </tr>\n",
       "    <tr>\n",
       "      <th>86</th>\n",
       "      <td>23</td>\n",
       "      <td>Group-1</td>\n",
       "    </tr>\n",
       "    <tr>\n",
       "      <th>1117</th>\n",
       "      <td>34</td>\n",
       "      <td>Group-2</td>\n",
       "    </tr>\n",
       "    <tr>\n",
       "      <th>912</th>\n",
       "      <td>26</td>\n",
       "      <td>Group-1</td>\n",
       "    </tr>\n",
       "    <tr>\n",
       "      <th>1340</th>\n",
       "      <td>36</td>\n",
       "      <td>Group-3</td>\n",
       "    </tr>\n",
       "    <tr>\n",
       "      <th>1252</th>\n",
       "      <td>34</td>\n",
       "      <td>Group-2</td>\n",
       "    </tr>\n",
       "    <tr>\n",
       "      <th>280</th>\n",
       "      <td>53</td>\n",
       "      <td>Group-4</td>\n",
       "    </tr>\n",
       "    <tr>\n",
       "      <th>752</th>\n",
       "      <td>36</td>\n",
       "      <td>Group-3</td>\n",
       "    </tr>\n",
       "    <tr>\n",
       "      <th>1009</th>\n",
       "      <td>58</td>\n",
       "      <td>Group-4</td>\n",
       "    </tr>\n",
       "    <tr>\n",
       "      <th>802</th>\n",
       "      <td>33</td>\n",
       "      <td>Group-2</td>\n",
       "    </tr>\n",
       "    <tr>\n",
       "      <th>53</th>\n",
       "      <td>35</td>\n",
       "      <td>Group-2</td>\n",
       "    </tr>\n",
       "    <tr>\n",
       "      <th>350</th>\n",
       "      <td>42</td>\n",
       "      <td>Group-4</td>\n",
       "    </tr>\n",
       "    <tr>\n",
       "      <th>79</th>\n",
       "      <td>46</td>\n",
       "      <td>Group-4</td>\n",
       "    </tr>\n",
       "    <tr>\n",
       "      <th>792</th>\n",
       "      <td>33</td>\n",
       "      <td>Group-2</td>\n",
       "    </tr>\n",
       "  </tbody>\n",
       "</table>\n",
       "<p>1029 rows × 2 columns</p>\n",
       "</div>"
      ],
      "text/plain": [
       "      Age Age_Group\n",
       "178    46   Group-4\n",
       "971    51   Group-4\n",
       "1172   29   Group-1\n",
       "667    41   Group-3\n",
       "399    31   Group-2\n",
       "634    25   Group-1\n",
       "266    31   Group-2\n",
       "210    32   Group-2\n",
       "318    27   Group-1\n",
       "239    32   Group-2\n",
       "1002   35   Group-2\n",
       "519    29   Group-1\n",
       "1425   33   Group-2\n",
       "390    43   Group-4\n",
       "892    19   Group-1\n",
       "1297   26   Group-1\n",
       "342    31   Group-2\n",
       "114    34   Group-2\n",
       "619    33   Group-2\n",
       "365    46   Group-4\n",
       "308    58   Group-4\n",
       "1322   46   Group-4\n",
       "715    33   Group-2\n",
       "1087   34   Group-2\n",
       "25     53   Group-4\n",
       "591    33   Group-2\n",
       "88     30   Group-2\n",
       "669    39   Group-3\n",
       "924    35   Group-2\n",
       "111    34   Group-2\n",
       "...   ...       ...\n",
       "2      37   Group-3\n",
       "1360   31   Group-2\n",
       "763    34   Group-2\n",
       "967    40   Group-3\n",
       "782    30   Group-2\n",
       "317    52   Group-4\n",
       "49     35   Group-2\n",
       "135    36   Group-3\n",
       "835    35   Group-2\n",
       "603    45   Group-4\n",
       "1028   41   Group-3\n",
       "612    28   Group-1\n",
       "757    34   Group-2\n",
       "1165   44   Group-4\n",
       "897    59   Group-4\n",
       "415    34   Group-2\n",
       "386    37   Group-3\n",
       "86     23   Group-1\n",
       "1117   34   Group-2\n",
       "912    26   Group-1\n",
       "1340   36   Group-3\n",
       "1252   34   Group-2\n",
       "280    53   Group-4\n",
       "752    36   Group-3\n",
       "1009   58   Group-4\n",
       "802    33   Group-2\n",
       "53     35   Group-2\n",
       "350    42   Group-4\n",
       "79     46   Group-4\n",
       "792    33   Group-2\n",
       "\n",
       "[1029 rows x 2 columns]"
      ]
     },
     "execution_count": 63,
     "metadata": {},
     "output_type": "execute_result"
    }
   ],
   "source": [
    "bins=train['Age'].quantile([0,0.25,0.5,0.75,1]).values\n",
    "train['Age_Group']=np.digitize(train['Age'],bins=bins)\n",
    "train['Age_Group']=train['Age_Group'].apply(lambda v: 'Group-'+str(v))\n",
    "train[['Age','Age_Group']]"
   ]
  },
  {
   "cell_type": "code",
   "execution_count": null,
   "metadata": {},
   "outputs": [],
   "source": []
  },
  {
   "cell_type": "code",
   "execution_count": null,
   "metadata": {},
   "outputs": [],
   "source": []
  },
  {
   "cell_type": "code",
   "execution_count": null,
   "metadata": {},
   "outputs": [],
   "source": []
  }
 ],
 "metadata": {
  "kernelspec": {
   "display_name": "Python 3",
   "language": "python",
   "name": "python3"
  },
  "language_info": {
   "codemirror_mode": {
    "name": "ipython",
    "version": 3
   },
   "file_extension": ".py",
   "mimetype": "text/x-python",
   "name": "python",
   "nbconvert_exporter": "python",
   "pygments_lexer": "ipython3",
   "version": "3.6.5"
  }
 },
 "nbformat": 4,
 "nbformat_minor": 2
}
